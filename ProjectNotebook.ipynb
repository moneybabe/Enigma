{
 "cells": [
  {
   "cell_type": "markdown",
   "metadata": {},
   "source": [
    "# ProjectNotebook.ipynb\n",
    "##### This repo is also uploaded to github: https://github.com/moneybabe/Enigma\n",
    "This file mainly serves to demonstrate the opeartion of the code, most information about the principles of Enigma and the repository can be found in README.md"
   ]
  },
  {
   "cell_type": "markdown",
   "metadata": {},
   "source": [
    "# Project Description\n",
    "##### This project implements the Enigma machine with python.\n",
    "Since Enigma is `self-reciprocal`, which means the same machine can be used to encrypt and decrypt at the same time, you can use this program to encrypt and ecrypt message using the same configuration. The process will be demonstrated below."
   ]
  },
  {
   "cell_type": "markdown",
   "metadata": {},
   "source": [
    "# Project Code\n",
    "We first import `main()` from `main.py`."
   ]
  },
  {
   "cell_type": "code",
   "execution_count": 1,
   "metadata": {},
   "outputs": [],
   "source": [
    "from main import main"
   ]
  },
  {
   "cell_type": "markdown",
   "metadata": {},
   "source": [
    "We first execute main() to encrypt a message."
   ]
  },
  {
   "cell_type": "code",
   "execution_count": 2,
   "metadata": {
    "scrolled": true
   },
   "outputs": [
    {
     "name": "stdout",
     "output_type": "stream",
     "text": [
      "\n",
      "You can set up to 10 configurations for the plugboard, press enter to finish configuring\n",
      "Enter the first two letters you want to connect in plugboard (examples: pt or yo): 12e\n",
      "Please enter only two characters: dqwde\n",
      "Please enter only two characters: !@#\n",
      "Please enter only two characters: jk\n",
      "Current plugboard setting: \n",
      "['jk']\n",
      "Enter the second two letters you want to connect in plugboard (examples: pt or yo): el\n",
      "Current plugboard setting: \n",
      "['jk', 'el']\n",
      "Enter the third two letters you want to connect in plugboard (examples: pt or yo): po\n",
      "Current plugboard setting: \n",
      "['jk', 'el', 'po']\n",
      "Enter the fourth two letters you want to connect in plugboard (examples: pt or yo): \n",
      "Final plugboard setting: \n",
      "['jk', 'el', 'po']\n",
      "\n",
      "Choose three rotors from number 1 to 5\n",
      "First rotor number: 1\n",
      "Current rotors' order: \n",
      "[1]\n",
      "Second rotor number: re\n",
      "Please enter only one character: e\n",
      "Please enter only integer from 1 to 5: 3\n",
      "Current rotors' order: \n",
      "[1, 3]\n",
      "Third rotor number: 5\n",
      "Current rotors' order: \n",
      "[1, 3, 5]\n",
      "\n",
      "Enter the rotors' initial positions (from 0 to 25 corresponding A to Z)\n",
      "Initial position of first rotor: 12\n",
      "Initial position of second rotor: 42\n",
      "Please enter only intergers from 0 to 25: 23\n",
      "Initial position of third rotor: fw\n",
      "Please enter only integers: e2\n",
      "Please enter only integers: fwe\n",
      "Please enter only intergers from 0 to 25: 24\n",
      "Final rotors' positions: \n",
      "[12, 23, 24]\n",
      "\n",
      "Enter your message (only letters, space allowed): e12d1\n",
      "No special character, please reenter: !@#@!#\n",
      "No special character, please reenter: CogS EighTeEn iS fUn\n",
      "\n",
      "Your final plugboard config: \n",
      "['jk', 'el', 'po']\n",
      "Your final rotors' order: \n",
      "[1, 3, 5]\n",
      "Your final rotors' positions: \n",
      "[12, 23, 24]\n",
      "Your cipher text: \n",
      "ZAPO JGVOQPXZ MA GRP\n",
      "\n",
      "Keep going? (y/n) n\n",
      "HEIL NEO\n"
     ]
    }
   ],
   "source": [
    "main()"
   ]
  },
  {
   "cell_type": "markdown",
   "metadata": {},
   "source": [
    "We then execute main() again to decrypt the previous message."
   ]
  },
  {
   "cell_type": "code",
   "execution_count": 3,
   "metadata": {},
   "outputs": [
    {
     "name": "stdout",
     "output_type": "stream",
     "text": [
      "\n",
      "You can set up to 10 configurations for the plugboard, press enter to finish configuring\n",
      "Enter the first two letters you want to connect in plugboard (examples: pt or yo): jk\n",
      "Current plugboard setting: \n",
      "['jk']\n",
      "Enter the second two letters you want to connect in plugboard (examples: pt or yo): le\n",
      "Current plugboard setting: \n",
      "['jk', 'le']\n",
      "Enter the third two letters you want to connect in plugboard (examples: pt or yo): po\n",
      "Current plugboard setting: \n",
      "['jk', 'le', 'po']\n",
      "Enter the fourth two letters you want to connect in plugboard (examples: pt or yo): \n",
      "Final plugboard setting: \n",
      "['jk', 'le', 'po']\n",
      "\n",
      "Choose three rotors from number 1 to 5\n",
      "First rotor number: 1\n",
      "Current rotors' order: \n",
      "[1]\n",
      "Second rotor number: 3\n",
      "Current rotors' order: \n",
      "[1, 3]\n",
      "Third rotor number: 5\n",
      "Current rotors' order: \n",
      "[1, 3, 5]\n",
      "\n",
      "Enter the rotors' initial positions (from 0 to 25 corresponding A to Z)\n",
      "Initial position of first rotor: 12\n",
      "Initial position of second rotor: 23\n",
      "Initial position of third rotor: 24\n",
      "Final rotors' positions: \n",
      "[12, 23, 24]\n",
      "\n",
      "Enter your message (only letters, space allowed): ZAPO JGVOQPXZ MA GRP\n",
      "\n",
      "Your final plugboard config: \n",
      "['jk', 'le', 'po']\n",
      "Your final rotors' order: \n",
      "[1, 3, 5]\n",
      "Your final rotors' positions: \n",
      "[12, 23, 24]\n",
      "Your cipher text: \n",
      "COGS EIGHTEEN IS FUN\n",
      "\n",
      "Keep going? (y/n) n\n",
      "HEIL NEO\n"
     ]
    }
   ],
   "source": [
    "main()"
   ]
  },
  {
   "cell_type": "markdown",
   "metadata": {},
   "source": [
    "The returned text `COGS EIGHTEEN IS FUN` is the same as the plain text we input in the first main()."
   ]
  },
  {
   "cell_type": "markdown",
   "metadata": {},
   "source": [
    "### Unit Test\n",
    "We can run our unit test by executing `!pytest`."
   ]
  },
  {
   "cell_type": "code",
   "execution_count": 4,
   "metadata": {},
   "outputs": [
    {
     "name": "stdout",
     "output_type": "stream",
     "text": [
      "\u001b[1m============================= test session starts ==============================\u001b[0m\r\n",
      "platform linux -- Python 3.9.5, pytest-7.2.0, pluggy-1.0.0\r\n",
      "rootdir: /home/yl003/Enigma\r\n",
      "plugins: anyio-3.2.1\r\n",
      "\u001b[1mcollecting ... \u001b[0m\u001b[1m\r\n",
      "collected 7 items                                                              \u001b[0m\r\n",
      "\r\n",
      "test_enigma.py \u001b[32m.\u001b[0m\u001b[32m.\u001b[0m\u001b[32m.\u001b[0m\u001b[32m.\u001b[0m\u001b[32m.\u001b[0m\u001b[32m.\u001b[0m\u001b[32m.\u001b[0m\u001b[32m                                                   [100%]\u001b[0m\r\n",
      "\r\n",
      "\u001b[32m============================== \u001b[32m\u001b[1m7 passed\u001b[0m\u001b[32m in 0.03s\u001b[0m\u001b[32m ===============================\u001b[0m\r\n"
     ]
    }
   ],
   "source": [
    "!pytest"
   ]
  }
 ],
 "metadata": {
  "kernelspec": {
   "display_name": "Python 3 (ipykernel)",
   "language": "python",
   "name": "python3"
  },
  "language_info": {
   "codemirror_mode": {
    "name": "ipython",
    "version": 3
   },
   "file_extension": ".py",
   "mimetype": "text/x-python",
   "name": "python",
   "nbconvert_exporter": "python",
   "pygments_lexer": "ipython3",
   "version": "3.9.13"
  },
  "vscode": {
   "interpreter": {
    "hash": "b0fa6594d8f4cbf19f97940f81e996739fb7646882a419484c72d19e05852a7e"
   }
  }
 },
 "nbformat": 4,
 "nbformat_minor": 2
}
